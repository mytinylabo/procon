{
 "metadata": {
  "language_info": {
   "codemirror_mode": {
    "name": "ipython",
    "version": 3
   },
   "file_extension": ".py",
   "mimetype": "text/x-python",
   "name": "python",
   "nbconvert_exporter": "python",
   "pygments_lexer": "ipython3",
   "version": "3.8.11"
  },
  "orig_nbformat": 2,
  "kernelspec": {
   "name": "python3811jvsc74a57bd0af1e18076699f5ec67ab6f40260271d87ec8435c6f17c2a235c49d5ebb57dd62",
   "display_name": "Python 3.8.11 64-bit ('3.8.11')"
  },
  "metadata": {
   "interpreter": {
    "hash": "af1e18076699f5ec67ab6f40260271d87ec8435c6f17c2a235c49d5ebb57dd62"
   }
  }
 },
 "nbformat": 4,
 "nbformat_minor": 2,
 "cells": [
  {
   "cell_type": "code",
   "execution_count": 1,
   "metadata": {},
   "outputs": [],
   "source": [
    "ufsets = set()"
   ]
  },
  {
   "cell_type": "code",
   "execution_count": 125,
   "metadata": {},
   "outputs": [],
   "source": [
    "from collections import defaultdict\n",
    "\n",
    "class UnionFind:\n",
    "    def __init__(self, n):\n",
    "        self._parents = [-1] * n\n",
    "        self._sizes = [1] * n\n",
    "\n",
    "    def root(self, x):\n",
    "        if self._parents[x] == -1:\n",
    "            return x\n",
    "        else:\n",
    "            self._parents[x] = self.root(self._parents[x])\n",
    "            return self._parents[x]\n",
    "\n",
    "    def unite(self, x, y):\n",
    "        rx = self.root(x)\n",
    "        ry = self.root(y)\n",
    "\n",
    "        if rx == ry:\n",
    "            return False\n",
    "        elif self._sizes[rx] < self._sizes[ry]:\n",
    "            self._parents[rx] = ry\n",
    "            self._sizes[ry] += self._sizes[rx]\n",
    "        else:\n",
    "            self._parents[ry] = rx\n",
    "            self._sizes[rx] += self._sizes[ry]\n",
    "\n",
    "        return True\n",
    "\n",
    "    def connected(self, x, y):\n",
    "        return self.root(x) == self.root(y)\n",
    "\n",
    "    def size(self, x):\n",
    "        return self._sizes[self.root(x)]\n",
    "\n",
    "    def __repr__(self):\n",
    "        bins = defaultdict(set)\n",
    "        for i, p in enumerate(map(self.root, range(len(self._parents)))):\n",
    "            bins[p].add(i)\n",
    "        return \"<UnionFind> \" + str(list(bins.values()))\n"
   ]
  },
  {
   "cell_type": "code",
   "execution_count": 126,
   "metadata": {},
   "outputs": [
    {
     "output_type": "execute_result",
     "data": {
      "text/plain": [
       "<UnionFind> [{0}, {1}, {2}, {3}, {4}, {5}, {6}, {7}, {8}, {9}]"
      ]
     },
     "metadata": {},
     "execution_count": 126
    }
   ],
   "source": [
    "uf = UnionFind(10)\n",
    "uf"
   ]
  },
  {
   "cell_type": "code",
   "execution_count": 127,
   "metadata": {},
   "outputs": [
    {
     "output_type": "execute_result",
     "data": {
      "text/plain": [
       "<UnionFind> [{0}, {1}, {2, 3}, {4}, {5}, {6}, {7}, {8}, {9}]"
      ]
     },
     "metadata": {},
     "execution_count": 127
    }
   ],
   "source": [
    "uf.unite(2, 3)\n",
    "uf"
   ]
  },
  {
   "cell_type": "code",
   "execution_count": 128,
   "metadata": {},
   "outputs": [
    {
     "output_type": "execute_result",
     "data": {
      "text/plain": [
       "True"
      ]
     },
     "metadata": {},
     "execution_count": 128
    }
   ],
   "source": [
    "uf.connected(2, 3)"
   ]
  },
  {
   "cell_type": "code",
   "execution_count": 129,
   "metadata": {},
   "outputs": [
    {
     "output_type": "execute_result",
     "data": {
      "text/plain": [
       "(2, 2)"
      ]
     },
     "metadata": {},
     "execution_count": 129
    }
   ],
   "source": [
    "uf.size(2), uf.size(3)"
   ]
  },
  {
   "cell_type": "code",
   "execution_count": 130,
   "metadata": {},
   "outputs": [
    {
     "output_type": "execute_result",
     "data": {
      "text/plain": [
       "<UnionFind> [{0}, {1}, {2, 3, 5, 6, 9}, {4}, {7}, {8}]"
      ]
     },
     "metadata": {},
     "execution_count": 130
    }
   ],
   "source": [
    "uf.unite(5, 6)\n",
    "uf.unite(6, 9)\n",
    "uf.unite(2, 6)\n",
    "uf"
   ]
  },
  {
   "cell_type": "code",
   "execution_count": 132,
   "metadata": {},
   "outputs": [
    {
     "output_type": "execute_result",
     "data": {
      "text/plain": [
       "5"
      ]
     },
     "metadata": {},
     "execution_count": 132
    }
   ],
   "source": [
    "uf.size(5)"
   ]
  },
  {
   "cell_type": "code",
   "execution_count": 131,
   "metadata": {},
   "outputs": [
    {
     "output_type": "execute_result",
     "data": {
      "text/plain": [
       "[-1, -1, 5, 5, -1, -1, 5, -1, -1, 5]"
      ]
     },
     "metadata": {},
     "execution_count": 131
    }
   ],
   "source": [
    "uf._parents"
   ]
  },
  {
   "source": [
    "## UnionFind で無向グラフの連結成分の個数を求める"
   ],
   "cell_type": "markdown",
   "metadata": {}
  },
  {
   "cell_type": "code",
   "execution_count": 133,
   "metadata": {},
   "outputs": [],
   "source": [
    "N = 10\n",
    "E = [\n",
    "    (0, 1), (1, 2), (1, 3), (3, 0),\n",
    "    (5, 6), (6, 9),\n",
    "    (7, 8)\n",
    "]"
   ]
  },
  {
   "cell_type": "code",
   "execution_count": 138,
   "metadata": {},
   "outputs": [
    {
     "output_type": "stream",
     "name": "stdout",
     "text": [
      "4\n"
     ]
    }
   ],
   "source": [
    "uf = UnionFind(N)\n",
    "for s, t in E:\n",
    "    uf.unite(s, t)\n",
    "\n",
    "print(len(list(filter(lambda v: uf.root(v) == v, range(N)))))"
   ]
  },
  {
   "cell_type": "code",
   "execution_count": 139,
   "metadata": {},
   "outputs": [
    {
     "output_type": "execute_result",
     "data": {
      "text/plain": [
       "<UnionFind> [{0, 1, 2, 3}, {4}, {9, 5, 6}, {8, 7}]"
      ]
     },
     "metadata": {},
     "execution_count": 139
    }
   ],
   "source": [
    "uf"
   ]
  },
  {
   "cell_type": "code",
   "execution_count": 140,
   "metadata": {},
   "outputs": [
    {
     "output_type": "execute_result",
     "data": {
      "text/plain": [
       "(4, 1, 3, 2)"
      ]
     },
     "metadata": {},
     "execution_count": 140
    }
   ],
   "source": [
    "uf.size(0), uf.size(4), uf.size(5), uf.size(8)"
   ]
  },
  {
   "cell_type": "code",
   "execution_count": 141,
   "metadata": {},
   "outputs": [
    {
     "output_type": "execute_result",
     "data": {
      "text/plain": [
       "[-1, 0, 0, 0, -1, -1, 5, -1, 7, 5]"
      ]
     },
     "metadata": {},
     "execution_count": 141
    }
   ],
   "source": [
    "uf._parents"
   ]
  }
 ]
}