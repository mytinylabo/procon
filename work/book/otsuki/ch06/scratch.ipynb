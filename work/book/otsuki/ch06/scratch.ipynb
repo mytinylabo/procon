{
 "cells": [
  {
   "cell_type": "markdown",
   "metadata": {},
   "source": [
    "## Python の二分探索法ライブラリを試す\n",
    "- `bisect_left` = C++ の `lower_bound`\n",
    "- `bisect_right` = C++ の `upper_bound`"
   ]
  },
  {
   "cell_type": "code",
   "execution_count": 3,
   "metadata": {},
   "outputs": [],
   "source": [
    "import bisect\n",
    "from bisect import bisect, bisect_right, bisect_left"
   ]
  },
  {
   "cell_type": "code",
   "execution_count": 4,
   "metadata": {},
   "outputs": [],
   "source": [
    "nums = [0, 1, 5, 11, 19, 20, 20, 21, 29, 35]"
   ]
  },
  {
   "cell_type": "code",
   "execution_count": 6,
   "metadata": {},
   "outputs": [
    {
     "data": {
      "text/plain": "[(-1, False, 0, 0),\n (0, True, 0, 1),\n (1, True, 1, 2),\n (2, False, 2, 2),\n (3, False, 2, 2),\n (4, False, 2, 2),\n (5, True, 2, 3),\n (6, False, 3, 3),\n (7, False, 3, 3),\n (8, False, 3, 3),\n (9, False, 3, 3),\n (10, False, 3, 3),\n (11, True, 3, 4),\n (12, False, 4, 4),\n (13, False, 4, 4),\n (14, False, 4, 4),\n (15, False, 4, 4),\n (16, False, 4, 4),\n (17, False, 4, 4),\n (18, False, 4, 4),\n (19, True, 4, 5),\n (20, True, 5, 7),\n (21, True, 7, 8),\n (22, False, 8, 8),\n (23, False, 8, 8),\n (24, False, 8, 8),\n (25, False, 8, 8),\n (26, False, 8, 8),\n (27, False, 8, 8),\n (28, False, 8, 8),\n (29, True, 8, 9),\n (30, False, 9, 9),\n (31, False, 9, 9),\n (32, False, 9, 9),\n (33, False, 9, 9),\n (34, False, 9, 9),\n (35, True, 9, 10),\n (36, False, 10, 10)]"
     },
     "execution_count": 6,
     "metadata": {},
     "output_type": "execute_result"
    }
   ],
   "source": [
    "list(map(lambda n: (n, n in nums, bisect_left(nums, n), bisect_right(nums, n)), range(min(nums) - 1, max(nums) + 2)))"
   ]
  },
  {
   "cell_type": "markdown",
   "metadata": {},
   "source": [
    "## bisect_right, bisect_left を実装してみよう"
   ]
  },
  {
   "cell_type": "code",
   "execution_count": 71,
   "metadata": {},
   "outputs": [],
   "source": [
    "def bsr(lst, x):\n",
    "    if lst[0] > x:\n",
    "        return 0\n",
    "    left = 0\n",
    "    right = len(lst)\n",
    "    while right - left > 1:\n",
    "        mid = (left + right) // 2\n",
    "        if x < lst[mid]:\n",
    "            right = mid\n",
    "        else:\n",
    "            left = mid\n",
    "    return right"
   ]
  },
  {
   "cell_type": "code",
   "execution_count": 109,
   "metadata": {},
   "outputs": [],
   "source": [
    "def bsl(lst, x):\n",
    "    # 条件式に = が入るか入らないかの違いしかない\n",
    "    if lst[0] >= x:\n",
    "        return 0\n",
    "    left = 0\n",
    "    right = len(lst)\n",
    "    while right - left > 1:\n",
    "        mid = (left + right) // 2\n",
    "        if x <= lst[mid]:\n",
    "            right = mid\n",
    "        else:\n",
    "            left = mid\n",
    "    return right"
   ]
  },
  {
   "cell_type": "code",
   "execution_count": 8,
   "metadata": {},
   "outputs": [],
   "source": [
    "from random import randint, randrange, sample, choice, choices\n",
    "import statistics\n",
    "\n",
    "def randlist(N, M):\n",
    "    return [randrange(1, M + 1) for _ in range(N)]"
   ]
  },
  {
   "cell_type": "code",
   "execution_count": 87,
   "metadata": {},
   "outputs": [],
   "source": [
    "def test_bsr(lst, m):\n",
    "    for n in range(m + 1):\n",
    "        i = bsr(lst, n)\n",
    "        j = bisect_right(nums, n)\n",
    "        if i != j:\n",
    "            return False, n, i, j\n",
    "    return True, None, None, None\n",
    "\n",
    "def test_bsl(lst, m):\n",
    "    for n in range(m + 1):\n",
    "        i = bsl(lst, n)\n",
    "        j = bisect_left(nums, n)\n",
    "        if i != j:\n",
    "            return False, n, i, j\n",
    "    return True, None, None, None"
   ]
  },
  {
   "cell_type": "code",
   "execution_count": 84,
   "metadata": {},
   "outputs": [
    {
     "data": {
      "text/plain": "(26, 72)"
     },
     "execution_count": 84,
     "metadata": {},
     "output_type": "execute_result"
    }
   ],
   "source": [
    "M = randint(0, 1000)\n",
    "nums = sorted(randlist(randint(10, 100), M))\n",
    "(M, len(nums))"
   ]
  },
  {
   "cell_type": "code",
   "execution_count": 70,
   "metadata": {},
   "outputs": [
    {
     "data": {
      "text/plain": "((1, 1, 4), (0, 158, 1))"
     },
     "execution_count": 70,
     "metadata": {},
     "output_type": "execute_result"
    }
   ],
   "source": [
    "i = bsr(nums, 0)\n",
    "j = bisect_right(nums, 0)\n",
    "(i, nums[i - 1], nums[i]), (j, nums[j - 1], nums[j])"
   ]
  },
  {
   "cell_type": "code",
   "execution_count": 107,
   "metadata": {},
   "outputs": [],
   "source": [
    "for _ in range(100):\n",
    "    M = randint(1, 1000)\n",
    "    nums = sorted(randlist(randint(10, 100), M))\n",
    "    passed, n, i, j = test_bsr(nums, M)\n",
    "    if not passed:\n",
    "        print(\"bsr\", n, i, j)\n",
    "\n",
    "for _ in range(100):\n",
    "    M = randint(1, 1000)\n",
    "    nums = sorted(randlist(randint(10, 100), M))\n",
    "    passed, n, i, j = test_bsl(nums, M)\n",
    "    if not passed:\n",
    "        print(\"bsl\", n, i, j)\n",
    "\n",
    "nums = [5]\n",
    "assert bsr(nums, 4) == bisect_right(nums, 4)\n",
    "assert bsr(nums, 5) == bisect_right(nums, 5)\n",
    "assert bsr(nums, 6) == bisect_right(nums, 6)\n",
    "assert bsl(nums, 4) == bisect_left(nums, 4)\n",
    "assert bsl(nums, 5) == bisect_left(nums, 5)\n",
    "assert bsl(nums, 6) == bisect_left(nums, 6)\n",
    "\n",
    "nums = [5] * 10\n",
    "assert bsr(nums, 4) == bisect_right(nums, 4)\n",
    "assert bsr(nums, 5) == bisect_right(nums, 5)\n",
    "assert bsr(nums, 6) == bisect_right(nums, 6)\n",
    "assert bsl(nums, 4) == bisect_left(nums, 4)\n",
    "assert bsl(nums, 5) == bisect_left(nums, 5)\n",
    "assert bsl(nums, 6) == bisect_left(nums, 6)"
   ]
  },
  {
   "cell_type": "code",
   "execution_count": 64,
   "metadata": {},
   "outputs": [
    {
     "data": {
      "text/plain": "[1, 4, 5, 7, 9, 9, 19, 24, 24, 27]"
     },
     "execution_count": 64,
     "metadata": {},
     "output_type": "execute_result"
    }
   ],
   "source": [
    "nums[:10]"
   ]
  },
  {
   "cell_type": "code",
   "execution_count": 55,
   "metadata": {},
   "outputs": [
    {
     "data": {
      "text/plain": "((0, 606, 16), (0, 606, 16))"
     },
     "execution_count": 55,
     "metadata": {},
     "output_type": "execute_result"
    }
   ],
   "source": [
    "i = bsl(nums, 16)\n",
    "j = bisect_left(nums, 16)\n",
    "(i, nums[i - 1], nums[i]), (j, nums[j - 1], nums[j])"
   ]
  },
  {
   "cell_type": "code",
   "execution_count": 68,
   "metadata": {},
   "outputs": [
    {
     "data": {
      "text/plain": "(True,)"
     },
     "execution_count": 68,
     "metadata": {},
     "output_type": "execute_result"
    }
   ],
   "source": [
    "test_bsl(nums, M)"
   ]
  },
  {
   "cell_type": "markdown",
   "metadata": {},
   "source": [
    "## 二分探索で中央値（メディアン）を求める"
   ]
  },
  {
   "cell_type": "code",
   "execution_count": 66,
   "metadata": {},
   "outputs": [],
   "source": [
    "def median(nums):\n",
    "    # シンプルな方法\n",
    "    assert (n := len(nums)) % 2 == 1\n",
    "    return sorted(nums)[(n - 1) // 2]\n",
    "\n",
    "def bmedian(nums):\n",
    "    # 二分探索で求める（遅いのでなにか間違ってる気がする…）\n",
    "    left = 0\n",
    "    right = max(nums)\n",
    "    mi = (len(nums) - 1) // 2\n",
    "    while right - left > 1:\n",
    "        mid = (right + left) // 2\n",
    "        c = 0\n",
    "        for n in nums:\n",
    "            if n <= mid:\n",
    "                c += 1\n",
    "            if c > mi:\n",
    "                break\n",
    "        if c <= mi:\n",
    "            left = mid\n",
    "        else:\n",
    "            right = mid\n",
    "\n",
    "    return right\n"
   ]
  },
  {
   "cell_type": "code",
   "execution_count": 67,
   "metadata": {},
   "outputs": [
    {
     "data": {
      "text/plain": "(480, 480, 480)"
     },
     "execution_count": 67,
     "metadata": {},
     "output_type": "execute_result"
    }
   ],
   "source": [
    "nums = randlist(101, 1000)\n",
    "(median(nums), bmedian(nums),statistics.median(nums))"
   ]
  },
  {
   "cell_type": "code",
   "execution_count": 68,
   "metadata": {},
   "outputs": [
    {
     "data": {
      "text/plain": "(501021, 501021, 501021)"
     },
     "execution_count": 68,
     "metadata": {},
     "output_type": "execute_result"
    }
   ],
   "source": [
    "nums = randlist(100001, 1000000)\n",
    "(median(nums), bmedian(nums),statistics.median(nums))"
   ]
  },
  {
   "cell_type": "code",
   "execution_count": 58,
   "metadata": {},
   "outputs": [],
   "source": [
    "from timeit import timeit"
   ]
  },
  {
   "cell_type": "code",
   "execution_count": 70,
   "metadata": {},
   "outputs": [
    {
     "data": {
      "text/plain": "1.4334734000149183"
     },
     "execution_count": 70,
     "metadata": {},
     "output_type": "execute_result"
    }
   ],
   "source": [
    "timeit(lambda: median(nums), number=100)"
   ]
  },
  {
   "cell_type": "code",
   "execution_count": 1,
   "metadata": {},
   "outputs": [],
   "source": [
    "# timeit(lambda: bmedian(nums), number=100)"
   ]
  },
  {
   "cell_type": "code",
   "execution_count": 2,
   "metadata": {},
   "outputs": [],
   "source": [
    "# timeit(lambda: median(nums), number=1)"
   ]
  }
 ],
 "metadata": {
  "kernelspec": {
   "display_name": "Python 3.8.5 64-bit ('3.8.5': pyenv)",
   "metadata": {
    "interpreter": {
     "hash": "b546dc24b9dd19f256529ca2492441d676e088bcd095c1ee3daffc9864f78435"
    }
   },
   "name": "python3"
  },
  "language_info": {
   "codemirror_mode": {
    "name": "ipython",
    "version": 3
   },
   "file_extension": ".py",
   "mimetype": "text/x-python",
   "name": "python",
   "nbconvert_exporter": "python",
   "pygments_lexer": "ipython3",
   "version": "3.8.5"
  },
  "orig_nbformat": 2
 },
 "nbformat": 4,
 "nbformat_minor": 2
}